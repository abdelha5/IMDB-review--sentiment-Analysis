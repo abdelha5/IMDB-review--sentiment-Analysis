{
 "cells": [
  {
   "cell_type": "markdown",
   "id": "44281064",
   "metadata": {
    "pycharm": {
     "name": "#%% md\n"
    }
   },
   "source": [
    "### Coursework 2\n",
    "\n",
    "In this coursework you will be aiming to complete two classification tasks. \n",
    "Both the classification tasks relate to text classification tasks. \n",
    "\n",
    "One task is to be solved using Support Vector Machines. The other has to be solved using Boosting.\n",
    "\n",
    "The specific tasks and the marking for the various tasks are provided in the notebook. Each task is expected to be accompanied by a lab-report. Each task can have a concise lab report that is maximum of one page in an A4 size. You will be expected to submit your Jupyter Notebook and all lab reports as a single zip file. You could have additional functions implemented that you require for carrying out each task.\n"
   ]
  },
  {
   "cell_type": "markdown",
   "id": "221ffe46",
   "metadata": {
    "pycharm": {
     "name": "#%% md\n"
    }
   },
   "source": [
    "#### Task 1\n",
    "\n",
    "In this task, you need to obtain sentiment analysis for the provided dataset. The dataset consists of movie reviews with the sentiments being provided. The sentiments are either positive or negative. You need to train an SVM based classifier to obtain train and check on the sample test dataset provided. The method will be evaluated also against an external test set. Please do not hardcode any dimensions or number of samples while writing the code. It should be possible to automate the testing and hardcoding values does not allow for automated testing. \n",
    "\n",
    "You are allowed to use scikit-learn to implement the SVM. However, you are expected to write your own kernels.\n",
    "\n",
    "You are allowed to use the existing library functions such as scikit-learn or numpy for obtaining the SVM. The main idea is to analyse the dataset using different kind of kernels. You are also supposed to write your own custom text kernels. Refer to the documentation provided [here](https://scikit-learn.org/stable/modules/svm.html) at 1.4.6.2 and an example [here](https://scikit-learn.org/stable/auto_examples/svm/plot_custom_kernel.html) for writing your own kernels.\n",
    "\n",
    "Details regarding the marking have been provided in the coursework specification file. Ensure that the code can be run with different test files. "
   ]
  },
  {
   "cell_type": "markdown",
   "id": "7385ce53",
   "metadata": {
    "pycharm": {
     "name": "#%% md\n"
    }
   },
   "source": [
    "#### Process the text and obtain a bag of words-based features"
   ]
  },
  {
   "cell_type": "code",
   "execution_count": 1,
   "outputs": [],
   "source": [
    "import numpy as np\n",
    "import pandas as pd\n",
    "from sklearn.feature_extraction.text import TfidfVectorizer\n",
    "from sklearn.model_selection import train_test_split\n",
    "from sklearn.svm import LinearSVC\n",
    "from sklearn.metrics import classification_report\n",
    "from nltk.tokenize import word_tokenize,sent_tokenize\n",
    "from nltk.tokenize.toktok import ToktokTokenizer\n",
    "from nltk.corpus import stopwords\n",
    "from nltk.stem.porter import PorterStemmer\n",
    "from sklearn.feature_extraction.text import CountVectorizer\n",
    "from sklearn.preprocessing import LabelBinarizer\n",
    "from bs4 import BeautifulSoup\n",
    "import re\n",
    "import nltk"
   ],
   "metadata": {
    "collapsed": false,
    "pycharm": {
     "name": "#%%\n"
    }
   }
  },
  {
   "cell_type": "code",
   "execution_count": 2,
   "outputs": [],
   "source": [
    "train_file = pd.read_csv('movie_review_train.csv')\n",
    "test_file = pd.read_csv('movie_review_test.csv')"
   ],
   "metadata": {
    "collapsed": false,
    "pycharm": {
     "name": "#%%\n"
    }
   }
  },
  {
   "cell_type": "code",
   "execution_count": 3,
   "outputs": [
    {
     "data": {
      "text/plain": "                                              review sentiment\n0  One of the other reviewers has mentioned that ...  positive\n1  A wonderful little production. <br /><br />The...  positive\n2  I thought this was a wonderful way to spend ti...  positive\n3  Basically there's a family where a little boy ...  negative\n4  Petter Mattei's \"Love in the Time of Money\" is...  positive",
      "text/html": "<div>\n<style scoped>\n    .dataframe tbody tr th:only-of-type {\n        vertical-align: middle;\n    }\n\n    .dataframe tbody tr th {\n        vertical-align: top;\n    }\n\n    .dataframe thead th {\n        text-align: right;\n    }\n</style>\n<table border=\"1\" class=\"dataframe\">\n  <thead>\n    <tr style=\"text-align: right;\">\n      <th></th>\n      <th>review</th>\n      <th>sentiment</th>\n    </tr>\n  </thead>\n  <tbody>\n    <tr>\n      <th>0</th>\n      <td>One of the other reviewers has mentioned that ...</td>\n      <td>positive</td>\n    </tr>\n    <tr>\n      <th>1</th>\n      <td>A wonderful little production. &lt;br /&gt;&lt;br /&gt;The...</td>\n      <td>positive</td>\n    </tr>\n    <tr>\n      <th>2</th>\n      <td>I thought this was a wonderful way to spend ti...</td>\n      <td>positive</td>\n    </tr>\n    <tr>\n      <th>3</th>\n      <td>Basically there's a family where a little boy ...</td>\n      <td>negative</td>\n    </tr>\n    <tr>\n      <th>4</th>\n      <td>Petter Mattei's \"Love in the Time of Money\" is...</td>\n      <td>positive</td>\n    </tr>\n  </tbody>\n</table>\n</div>"
     },
     "execution_count": 3,
     "metadata": {},
     "output_type": "execute_result"
    }
   ],
   "source": [
    "train_file.head()"
   ],
   "metadata": {
    "collapsed": false,
    "pycharm": {
     "name": "#%%\n"
    }
   }
  },
  {
   "cell_type": "code",
   "execution_count": 4,
   "outputs": [],
   "source": [
    "tokenizer=ToktokTokenizer()\n",
    "\n",
    "def normalize_data(train_file, test_file):\n",
    "    tokenizer= ToktokTokenizer()\n",
    "    #Setting English stopwords\n",
    "    stopword_list=nltk.corpus.stopwords.words('english')\n",
    "\n",
    "    def strip_html(text):\n",
    "        soup = BeautifulSoup(text, \"html.parser\")\n",
    "        return soup.get_text()\n",
    "\n",
    "    #Removing the square brackets\n",
    "    def remove_between_square_brackets(text):\n",
    "        return re.sub('\\[[^]]*\\]', '', text)\n",
    "\n",
    "    #Removing the noisy text\n",
    "    def denoise_text(text):\n",
    "        text = strip_html(text)\n",
    "        text = remove_between_square_brackets(text)\n",
    "        return text\n",
    "\n",
    "    train_file['review']= train_file['review'].apply(denoise_text)\n",
    "    test_file['review']= test_file['review'].apply(denoise_text)\n",
    "\n",
    "\n",
    "    #Define function for removing special characters\n",
    "    def remove_special_characters(text, remove_digits=True):\n",
    "        pattern=r'[^a-zA-z0-9\\s]'\n",
    "        text=re.sub(pattern,'',text)\n",
    "        return text\n",
    "    #Apply function on review column\n",
    "    train_file['review'] = train_file['review'].apply(remove_special_characters)\n",
    "    test_file['review'] = test_file['review'].apply(remove_special_characters)\n",
    "\n",
    "    # remove whitespace\n",
    "    train_file['review'] = train_file['review'].apply(lambda x: x.strip())\n",
    "    test_file['review'] = test_file['review'].apply(lambda x: x.strip())\n",
    "\n",
    "\n",
    "    # convert to lower\n",
    "    train_file['review'] = train_file['review'].apply(lambda x: x.lower())\n",
    "    test_file['review'] = test_file['review'].apply(lambda x: x.lower())\n",
    "\n",
    "    #Stemming the text\n",
    "    def simple_stemmer(text):\n",
    "        ps= nltk.porter.PorterStemmer()\n",
    "        text= ' '.join([ps.stem(word) for word in text.split()])\n",
    "        return text\n",
    "    #Apply function on review column\n",
    "    train_file['review'] = train_file['review'].apply(simple_stemmer)\n",
    "    test_file['review'] = test_file['review'].apply(simple_stemmer)\n",
    "\n",
    "    # stop=set(stopwords.words('english'))\n",
    "    # print(stop)\n",
    "\n",
    "#removing the stopwords\n",
    "    def remove_stopwords(text, is_lower_case=False):\n",
    "        tokens = tokenizer.tokenize(text)\n",
    "        tokens = [token.strip() for token in tokens]\n",
    "        if is_lower_case:\n",
    "            filtered_tokens = [token for token in tokens if token not in stopword_list]\n",
    "        else:\n",
    "            filtered_tokens = [token for token in tokens if token.lower() not in stopword_list]\n",
    "        filtered_text = ' '.join(filtered_tokens)\n",
    "        return filtered_text\n",
    "\n",
    "#Apply function on review column\n",
    "    train_file['review']=train_file['review'].apply(remove_stopwords)\n",
    "    test_file['review']=test_file['review'].apply(remove_stopwords)\n",
    "\n",
    "\n",
    "    X_train = train_file['review']\n",
    "    X_test = test_file['review']\n",
    "\n",
    "    return X_train, X_test"
   ],
   "metadata": {
    "collapsed": false,
    "pycharm": {
     "name": "#%%\n"
    }
   }
  },
  {
   "cell_type": "code",
   "execution_count": 5,
   "outputs": [],
   "source": [
    "def extract_bag_of_words_train_test(train_file, test_file):\n",
    "    import numpy as np\n",
    "    import nltk\n",
    "    # Read the CSV file and extract Bag of Words Features\n",
    "    train_file = pd.read_csv(train_file)\n",
    "    test_file = pd.read_csv(test_file)\n",
    "\n",
    "    X_train, X_test = normalize_data(train_file,test_file)\n",
    "\n",
    "    #Count vectorizer for bag of words\n",
    "    cv=CountVectorizer(min_df=0,max_df=1,binary=False,ngram_range=(1,3))\n",
    "    #transformed train reviews\n",
    "    X_train = cv.fit_transform(X_train)\n",
    "    #transformed test reviews\n",
    "    X_test = cv.transform(X_test)\n",
    "\n",
    "    #labeling the sentient data\n",
    "    lb = LabelBinarizer(neg_label= -1)\n",
    "    #transformed sentiment data\n",
    "    y_train = lb.fit_transform(train_file['sentiment'])\n",
    "    y_test = lb.fit_transform(test_file['sentiment'])\n",
    "\n",
    "    return (X_train,y_train,X_test,y_test)"
   ],
   "metadata": {
    "collapsed": false,
    "pycharm": {
     "name": "#%%\n"
    }
   }
  },
  {
   "cell_type": "code",
   "execution_count": 9,
   "id": "e94c07a4",
   "metadata": {
    "pycharm": {
     "name": "#%%\n"
    }
   },
   "outputs": [],
   "source": [
    "# Remove this later\n",
    "class SVMClassifier:\n",
    "    \"\"\"Placeholder SVM classifier SGD for testing and analysis purposes.\n",
    "    \"\"\"\n",
    "    def __init__(self):\n",
    "        from sklearn.linear_model import SGDClassifier\n",
    "        self.svm=SGDClassifier(loss='hinge',max_iter=5000,random_state=42)\n",
    "\n",
    "    def fit(self, X, y):\n",
    "        y = y.ravel()\n",
    "        self.svm = self.svm.fit(X,y)\n",
    "        return self.svm\n",
    "\n",
    "    def predict(self, X):\n",
    "        return self.svm.predict(X)\n",
    "\n",
    "\n",
    "# Keep this one\n",
    "# TODO: Customize\n",
    "class SVMClassifierCustom:\n",
    "    def __init__(self):\n",
    "        import numpy as np\n",
    "        from sklearn import svm\n",
    "        # We create a Linear Kernel with the following hyperparameters\n",
    "        self.C = 10\n",
    "    # define your own kernel here\n",
    "    # Refer to the documentation here: https://scikit-learn.org/stable/auto_examples/svm/plot_custom_kernel.html\n",
    "    def fit(self, X,y):\n",
    "        # training of the SVM\n",
    "        # Ensure you call your own defined kernel here\n",
    "        return\n",
    "    def predict(self, X):\n",
    "        # prediction routine for the SVM\n",
    "        return    "
   ]
  },
  {
   "cell_type": "markdown",
   "id": "35e6f272",
   "metadata": {
    "pycharm": {
     "name": "#%% md\n"
    }
   },
   "source": [
    "### Test function that will be called to evaluate your code. Separate test dataset will be provided\n",
    "\n",
    "Do not modify the code below. Please write your code above such that it can be evaluated by the function below. You can modify your code above such that you obtain the best performance through this function."
   ]
  },
  {
   "cell_type": "code",
   "execution_count": 10,
   "outputs": [],
   "source": [
    "def test_func_svm(dataset_train, dataset_test):\n",
    "    from sklearn.metrics import accuracy_score\n",
    "    (X_train, Y_train, X_test, Y_test) = extract_bag_of_words_train_test(dataset_train, dataset_test)\n",
    "    sc = SVMClassifier()\n",
    "    sc.fit(X_train, Y_train)\n",
    "    Y_Pred = sc.predict(X_test)\n",
    "    acc = accuracy_score(Y_test, Y_Pred)\n",
    "    print(\"Accuracy:\",acc)\n",
    "    return acc"
   ],
   "metadata": {
    "collapsed": false,
    "pycharm": {
     "name": "#%%\n"
    }
   }
  },
  {
   "cell_type": "code",
   "execution_count": 11,
   "id": "4ffd4adf",
   "metadata": {
    "pycharm": {
     "name": "#%%\n"
    }
   },
   "outputs": [
    {
     "name": "stderr",
     "output_type": "stream",
     "text": [
      "/Users/kuba/miniforge3/envs/pytorch/lib/python3.8/site-packages/bs4/__init__.py:435: MarkupResemblesLocatorWarning: The input looks more like a filename than markup. You may want to open this file and pass the filehandle into Beautiful Soup.\n",
      "  warnings.warn(\n"
     ]
    },
    {
     "name": "stdout",
     "output_type": "stream",
     "text": [
      "{'mightn', \"it's\", 'will', \"won't\", 'about', 'have', 'ain', 'couldn', 'for', 'itself', 'which', 'at', \"mustn't\", 've', 'by', 'was', 'there', 'didn', 'being', \"doesn't\", 'myself', \"shouldn't\", 'been', 'from', 'under', 'to', 'only', 'they', \"you'll\", 'not', 'such', \"that'll\", 'before', \"didn't\", 'hadn', 'do', 'into', 'now', 'here', 'll', 'what', 'did', 'during', 'doing', 'themselves', 'hasn', \"hasn't\", 'shan', 'below', 'don', 'of', 'am', 'but', 'our', 'then', 'd', 'few', 'until', 'or', 'against', 'why', 'no', \"wasn't\", 'wouldn', 'your', 'over', \"should've\", 'can', 'above', 'out', 'isn', 'that', 'too', 'each', 'y', \"haven't\", 'does', 'his', 'most', \"needn't\", 'down', 'their', 'the', 'very', 's', 'just', 'aren', 'won', 'them', 'so', 'my', 'you', 'himself', \"wouldn't\", \"couldn't\", 'are', 'm', 'had', 'on', 'me', 'when', 'all', 'yours', 'these', 'should', \"hadn't\", 'and', 'weren', 'a', 'theirs', 'while', \"isn't\", 'he', 'those', \"aren't\", 'o', 'again', 'some', 're', 'off', 'we', 'were', 'as', 'between', 'more', 'i', 'where', \"weren't\", 'wasn', 'up', 'in', \"don't\", 'through', 'doesn', 'own', 'than', 'having', 'be', 'this', 'both', \"you're\", 'him', 'ours', 'hers', 'an', 'whom', 'because', 'further', 'its', \"you'd\", \"she's\", 'who', 'is', 'if', 'same', 'nor', 'has', 'yourself', 'her', 'how', 'ourselves', 'haven', 'any', 'ma', 'shouldn', \"you've\", 'with', 'needn', 'after', 'other', \"shan't\", \"mightn't\", 't', 'she', 'yourselves', 'mustn', 'it', 'herself', 'once'}\n",
      "Accuracy: 0.6326666666666667\n"
     ]
    }
   ],
   "source": [
    "acc = test_func_svm(\"movie_review_train.csv\", \"movie_review_test.csv\")"
   ]
  },
  {
   "cell_type": "markdown",
   "id": "61056292",
   "metadata": {
    "pycharm": {
     "name": "#%% md\n"
    }
   },
   "source": [
    "### Task 2\n",
    "\n",
    "In this task you need to implement a boosting based classifier that can be used to classify the images. \n",
    "\n",
    "Details regarding the marking for the coursework are provided in the coursework specification file. Please ensure that your code will work with a different test file than the one provided with the coursework.\n",
    "\n",
    "Note that the boosting classifier you implement can include decision trees from scikit-learn or your own decision trees. Use the same sentiment analysis dataset for evaluation."
   ]
  },
  {
   "cell_type": "code",
   "execution_count": 4,
   "id": "3805e672",
   "metadata": {
    "pycharm": {
     "name": "#%%\n"
    }
   },
   "outputs": [],
   "source": [
    "class BoostingClassifier:\n",
    "    # You need to implement this classifier. \n",
    "    def __init__(self):\n",
    "        import numpy as np\n",
    "        #implement initialisation\n",
    "        self.some_paramter=1\n",
    "    def fit(self, X,y):\n",
    "        from sklearn.tree import DecisionTreeClassifier\n",
    "        import numpy as np\n",
    "        #implement training of the boosting classifier\n",
    "        return \n",
    "    def predict(self, X):\n",
    "        # implement prediction of the boosting classifier\n",
    "        return"
   ]
  },
  {
   "cell_type": "markdown",
   "id": "af6e0987",
   "metadata": {
    "pycharm": {
     "name": "#%% md\n"
    }
   },
   "source": [
    "### Test function that will be called to evaluate your code. Separate test dataset will be provided\n",
    "\n",
    "Do not modify the code below. Please write your code above such that it can be evaluated by the function below. You can modify your code above such that you obtain the best performance through this function. "
   ]
  },
  {
   "cell_type": "code",
   "execution_count": 5,
   "id": "4632591c",
   "metadata": {
    "pycharm": {
     "name": "#%%\n"
    }
   },
   "outputs": [],
   "source": [
    "def test_func_boosting(dataset_train, dataset_test):\n",
    "    from sklearn.metrics import accuracy_score    \n",
    "    (X_train, Y_train, X_test, Y_test) = extract_bag_of_words_train_test(dataset_train, dataset_test)\n",
    "    bc = BoostingClassifier()\n",
    "    bc.fit(X_train, Y_train)\n",
    "    Y_Pred = bc.predict(X_test)    \n",
    "    acc = accuracy_score(Y_test, Y_Pred)\n",
    "    return acc"
   ]
  },
  {
   "cell_type": "code",
   "execution_count": null,
   "id": "d6c27de1",
   "metadata": {
    "pycharm": {
     "name": "#%%\n"
    }
   },
   "outputs": [],
   "source": [
    "acc = test_func_boosting(\"movie_review_train.csv\", \"movie_review_test.csv\")"
   ]
  }
 ],
 "metadata": {
  "kernelspec": {
   "display_name": "Python 3",
   "language": "python",
   "name": "python3"
  },
  "language_info": {
   "codemirror_mode": {
    "name": "ipython",
    "version": 3
   },
   "file_extension": ".py",
   "mimetype": "text/x-python",
   "name": "python",
   "nbconvert_exporter": "python",
   "pygments_lexer": "ipython3",
   "version": "3.7.9"
  }
 },
 "nbformat": 4,
 "nbformat_minor": 5
}